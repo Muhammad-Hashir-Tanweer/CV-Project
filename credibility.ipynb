{
 "cells": [
  {
   "cell_type": "code",
   "execution_count": 1,
   "metadata": {
    "collapsed": true
   },
   "outputs": [],
   "source": [
    "%matplotlib inline\n",
    "import pickle as pkl\n",
    "import numpy as np\n",
    "import spectral\n",
    "import pandas as pd\n",
    "import scipy.io as io\n",
    "import os"
   ]
  },
  {
   "cell_type": "markdown",
   "metadata": {},
   "source": [
    "Load the ground truth image\n",
    "==========================="
   ]
  },
  {
   "cell_type": "code",
   "execution_count": 2,
   "metadata": {
    "collapsed": false
   },
   "outputs": [],
   "source": [
    "DATA_PATH = os.path.join(os.getcwd(),\"Data\")\n",
    "output_image = io.loadmat(os.path.join(DATA_PATH, 'Indian_pines_gt.mat'))['indian_pines_gt']"
   ]
  },
  {
   "cell_type": "markdown",
   "metadata": {},
   "source": [
    "Analyze the target image\n",
    "======================="
   ]
  },
  {
   "cell_type": "code",
   "execution_count": 3,
   "metadata": {
    "collapsed": true
   },
   "outputs": [],
   "source": [
    "height = output_image.shape[0]\n",
    "width = output_image.shape[1]\n",
    "targets = []\n",
    "for j in range(height):\n",
    "    for i in range(width):\n",
    "        if output_image[j][i]==0 :\n",
    "            continue\n",
    "        else :\n",
    "            targets.append(output_image[j][i])"
   ]
  },
  {
   "cell_type": "code",
   "execution_count": 4,
   "metadata": {
    "collapsed": false
   },
   "outputs": [
    {
     "name": "stdout",
     "output_type": "stream",
     "text": [
      "Polulation of target pixels of different classes:  [46, 1428, 830, 237, 483, 730, 28, 478, 20, 972, 2455, 593, 205, 1265, 386, 93]\n"
     ]
    }
   ],
   "source": [
    "unq, unq_idx = np.unique(targets, return_inverse=True)\n",
    "unq_cnt = np.bincount(unq_idx)\n",
    "count_mat = []\n",
    "for i in range(len(unq_cnt)):\n",
    "    count_mat.append(unq_cnt[i])\n",
    "print (\"Polulation of target pixels of different classes: \",count_mat)"
   ]
  },
  {
   "cell_type": "code",
   "execution_count": 5,
   "metadata": {
    "collapsed": true
   },
   "outputs": [],
   "source": [
    "validation_scores = {'5x5': 86.19, '11x11':85.19, '21x21':97.31, '31x31':98.19, '37x37':99.56}\n",
    "CLASSES = 16"
   ]
  },
  {
   "cell_type": "code",
   "execution_count": 6,
   "metadata": {
    "collapsed": false
   },
   "outputs": [],
   "source": [
    "total = sum(validation_scores.values())\n",
    "credibility = {}\n",
    "for keys,value in validation_scores.items():\n",
    "    credibility[keys]=value/total "
   ]
  },
  {
   "cell_type": "code",
   "execution_count": 11,
   "metadata": {
    "collapsed": false
   },
   "outputs": [
    {
     "name": "stderr",
     "output_type": "stream",
     "text": [
      "c:\\Users\\hashi\\Downloads\\ML_Class\\.venv\\lib\\site-packages\\ipykernel_launcher.py:14: VisibleDeprecationWarning: Creating an ndarray from ragged nested sequences (which is a list-or-tuple of lists-or-tuples-or ndarrays with different lengths or shapes) is deprecated. If you meant to do this, you must specify 'dtype=object' when creating the ndarray.\n",
      "  \n"
     ]
    }
   ],
   "source": [
    "output_predictions = {}\n",
    "\n",
    "with open('Predictions.pkl', 'rb') as f:\n",
    "    for i in range(5):\n",
    "        try:\n",
    "            data = pkl.load(f)\n",
    "            for keys, values in data.items():\n",
    "                score = validation_scores.get(keys)  # Getting the score from validation_scores dictionary\n",
    "                if score is not None:\n",
    "                    for a in range(len(values)):\n",
    "                        for b in range(len(values[a])):\n",
    "                            if isinstance(values[a][b], int):\n",
    "                                values[a][b] = np.zeros((16))  # Replace int values with arrays of zeros       \n",
    "                    output_predictions[keys] = np.asarray(values) * credibility.get(keys, 1.0)  # Adjust if needed\n",
    "        except EOFError:\n",
    "            break  # Exit the loop when end of file is reached\n"
   ]
  },
  {
   "cell_type": "code",
   "execution_count": 12,
   "metadata": {
    "collapsed": false
   },
   "outputs": [],
   "source": [
    "final_matrix = sum(output_predictions.values())"
   ]
  },
  {
   "cell_type": "code",
   "execution_count": 14,
   "metadata": {
    "collapsed": false
   },
   "outputs": [
    {
     "name": "stdout",
     "output_type": "stream",
     "text": [
      "       0          1          2          3          4          5      6   \\\n",
      "0   100.0   0.140056   0.000000   0.000000   0.000000   0.000000    0.0   \n",
      "1     0.0  93.277311   0.000000   0.000000   0.000000   0.000000    0.0   \n",
      "2     0.0   0.280112  65.903614   0.000000   0.000000   0.000000    0.0   \n",
      "3     0.0   0.840336   0.000000  64.135021   0.000000   0.410959    0.0   \n",
      "4     0.0   0.420168   0.000000   0.000000  69.565217   0.410959    0.0   \n",
      "5     0.0   0.000000   0.000000   0.000000   0.414079  98.904110    0.0   \n",
      "6     0.0   0.000000   0.000000   0.000000   0.000000   0.000000  100.0   \n",
      "7     0.0   0.000000   0.000000   0.000000   0.000000   0.000000    0.0   \n",
      "8     0.0   0.000000   0.000000   0.000000   0.000000   0.000000    0.0   \n",
      "9     0.0   0.490196   0.000000   0.000000   0.000000   0.000000    0.0   \n",
      "10    0.0   0.840336   0.000000   0.000000   0.000000   0.273973    0.0   \n",
      "11    0.0   0.140056   0.000000   0.000000   0.000000   0.000000    0.0   \n",
      "12    0.0   0.070028   0.000000   0.000000   0.414079   0.000000    0.0   \n",
      "13    0.0   0.000000   0.000000   0.000000   0.000000   0.000000    0.0   \n",
      "14    0.0   0.000000   0.000000   0.000000   0.000000   0.000000    0.0   \n",
      "15    0.0   0.000000   0.000000   0.000000   0.000000   0.000000    0.0   \n",
      "\n",
      "           7      8          9          10         11     12         13  \\\n",
      "0    0.000000    0.0   0.000000   0.000000   0.000000    0.0   0.000000   \n",
      "1    0.000000    0.0   0.617284   0.448065   0.000000    0.0   0.000000   \n",
      "2    0.000000    0.0   0.000000   0.448065   0.000000    0.0   0.000000   \n",
      "3    0.000000    0.0   0.000000   0.000000   0.000000    0.0   0.000000   \n",
      "4    0.000000    0.0   0.000000   0.040733   0.000000    0.0   0.000000   \n",
      "5    0.000000    0.0   0.000000   0.529532   0.000000    0.0   0.790514   \n",
      "6    0.000000    0.0   0.000000   0.000000   0.000000    0.0   0.000000   \n",
      "7   74.476987    0.0   0.000000   0.000000   0.000000    0.0   0.000000   \n",
      "8    0.000000  100.0   0.000000   0.000000   0.000000    0.0   0.000000   \n",
      "9    0.000000    0.0  85.390947   2.566191   0.168634    0.0   0.000000   \n",
      "10   0.000000    0.0   0.720165  87.128310   0.000000    0.0   0.000000   \n",
      "11   0.000000    0.0   0.000000   0.040733  80.438449    0.0   0.000000   \n",
      "12   0.000000    0.0   0.000000   0.081466   0.000000  100.0   0.000000   \n",
      "13   0.000000    0.0   0.000000   0.162933   0.000000    0.0  84.901186   \n",
      "14   0.000000    0.0   0.000000   0.000000   0.337268    0.0   0.869565   \n",
      "15   0.000000    0.0   0.000000   0.000000   0.168634    0.0   0.000000   \n",
      "\n",
      "           14     15  \n",
      "0    0.000000    0.0  \n",
      "1    0.000000    0.0  \n",
      "2    0.000000    0.0  \n",
      "3    0.000000    0.0  \n",
      "4    0.000000    0.0  \n",
      "5    0.000000    0.0  \n",
      "6    0.000000    0.0  \n",
      "7    0.000000    0.0  \n",
      "8    0.000000    0.0  \n",
      "9    0.000000    0.0  \n",
      "10   0.000000    0.0  \n",
      "11   0.000000    0.0  \n",
      "12   0.000000    0.0  \n",
      "13   0.000000    0.0  \n",
      "14  36.787565    0.0  \n",
      "15   0.000000  100.0  \n"
     ]
    }
   ],
   "source": [
    "predictions=[]\n",
    "cnf_mat =[[0 for x in range(CLASSES)] for  y in range(CLASSES)]\n",
    "for i in range(len(final_matrix)):\n",
    "    temp=[]\n",
    "    for j in range(len(final_matrix[i])):\n",
    "        if np.count_nonzero(final_matrix[i][j]) == 0 :\n",
    "            temp.append(0)\n",
    "        else:\n",
    "            tmp = np.argmax(final_matrix[i][j])\n",
    "            temp.append(tmp+1)\n",
    "            if tmp == output_image[i][j]-1:\n",
    "                cnf_mat[tmp][tmp] = cnf_mat[tmp][tmp] + 1\n",
    "            else :\n",
    "                cnf_mat[tmp][output_image[i][j]-1] = cnf_mat[tmp][output_image[i][j]-1] + 1\n",
    "    predictions.append(temp)\n",
    "for i in range(CLASSES):\n",
    "    for j in range(CLASSES):\n",
    "        cnf_mat[i][j] = 100*(float(cnf_mat[i][j])/count_mat[j])\n",
    "\n",
    "df = pd.DataFrame(cnf_mat) \n",
    "print(df)\n",
    "predictions = np.array(predictions)"
   ]
  },
  {
   "cell_type": "code",
   "execution_count": 15,
   "metadata": {
    "collapsed": false
   },
   "outputs": [
    {
     "data": {
      "image/png": "[encoded data removed]",
      "text/plain": [
       "<Figure size 900x900 with 1 Axes>"
      ]
     },
     "metadata": {},
     "output_type": "display_data"
    }
   ],
   "source": [
    "show = spectral.imshow(classes = predictions , figsize=(9,9))"
   ]
  },
  {
   "cell_type": "code",
   "execution_count": null,
   "metadata": {
    "collapsed": true
   },
   "outputs": [],
   "source": []
  }
 ],
 "metadata": {
  "kernelspec": {
   "display_name": ".venv",
   "language": "python",
   "name": "python3"
  },
  "language_info": {
   "codemirror_mode": {
    "name": "ipython",
    "version": 3
   },
   "file_extension": ".py",
   "mimetype": "text/x-python",
   "name": "python",
   "nbconvert_exporter": "python",
   "pygments_lexer": "ipython3",
   "version": "3.7.3"
  }
 },
 "nbformat": 4,
 "nbformat_minor": 0
}
